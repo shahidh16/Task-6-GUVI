{
  "cells": [
    {
      "cell_type": "markdown",
      "metadata": {
        "id": "vtVxT4rcdoOd"
      },
      "source": [
        "# Assignment8"
      ]
    },
    {
      "cell_type": "code",
      "execution_count": 49,
      "metadata": {
        "collapsed": true,
        "id": "l8uwgwZNdoOk"
      },
      "outputs": [],
      "source": [
        "import pandas as pd\n",
        "import matplotlib.pyplot as plt\n",
        "import numpy as np\n",
        "from sklearn.metrics import r2_score\n",
        "from sklearn.linear_model import LinearRegression\n",
        "from sklearn.decomposition import PCA"
      ]
    },
    {
      "cell_type": "markdown",
      "metadata": {
        "id": "dIHkOzVhdoOm"
      },
      "source": [
        "# How Much is Your Car Worth?\n",
        "\n",
        "Data about the retail price of 2005 General Motors cars can be found in `car_data.csv`.\n",
        "\n",
        "The columns are:\n",
        "\n",
        "1. Price: suggested retail price of the used 2005 GM car in excellent condition.\n",
        "2. Mileage: number of miles the car has been driven\n",
        "3. Make: manufacturer of the car such as Saturn, Pontiac, and Chevrolet\n",
        "4. Model: specific models for each car manufacturer such as Ion, Vibe, Cavalier\n",
        "5. Trim (of car): specific type of car model such as SE Sedan 4D, Quad Coupe 2D          \n",
        "6. Type: body type such as sedan, coupe, etc.      \n",
        "7. Cylinder: number of cylinders in the engine        \n",
        "8. Liter: a more specific measure of engine size     \n",
        "9. Doors: number of doors           \n",
        "10. Cruise: indicator variable representing whether the car has cruise control (1 = cruise)\n",
        "11. Sound: indicator variable representing whether the car has upgraded speakers (1 = upgraded)\n",
        "12. Leather: indicator variable representing whether the car has leather seats (1 = leather)\n",
        "\n",
        "## Tasks, Part 1\n",
        "\n",
        "1. Find the linear regression equation for mileage vs price.\n",
        "2. Chart the original data and the equation on the chart.\n",
        "3. Find the equation's $R^2$ score (use the `.score` method) to determine whether the\n",
        "equation is a good fit for this data. (0.8 and greater is considered a strong correlation.)\n",
        "\n",
        "## Tasks, Part 2\n",
        "\n",
        "1. Use mileage, cylinders, liters, doors, cruise, sound, and leather to find the linear regression equation.\n",
        "2. Find the equation's $R^2$ score (use the `.score` method) to determine whether the\n",
        "equation is a good fit for this data. (0.8 and greater is considered a strong correlation.)\n",
        "3. Find the combination of the factors that is the best predictor for price.\n",
        "\n",
        "## Tasks, Hard Mode\n",
        "\n",
        "1. Research dummy variables in scikit-learn to see how to use the make, model, and body type.\n",
        "2. Find the best combination of factors to predict price."
      ]
    },
    {
      "cell_type": "markdown",
      "source": [
        "# Part-1 Solution"
      ],
      "metadata": {
        "id": "MSzECp9PBwxU"
      }
    },
    {
      "cell_type": "code",
      "execution_count": 33,
      "metadata": {
        "id": "73jNlPq_doOo"
      },
      "outputs": [],
      "source": [
        "df = pd.read_csv(\"car_data.csv\")"
      ]
    },
    {
      "cell_type": "code",
      "source": [
        "df.shape"
      ],
      "metadata": {
        "colab": {
          "base_uri": "https://localhost:8080/"
        },
        "id": "wKMVTwpWB-Ys",
        "outputId": "ab46dfd9-ac9a-4d3c-d0f1-30a1c914792f"
      },
      "execution_count": 34,
      "outputs": [
        {
          "output_type": "execute_result",
          "data": {
            "text/plain": [
              "(804, 12)"
            ]
          },
          "metadata": {},
          "execution_count": 34
        }
      ]
    },
    {
      "cell_type": "code",
      "source": [
        "df.head()"
      ],
      "metadata": {
        "colab": {
          "base_uri": "https://localhost:8080/",
          "height": 206
        },
        "id": "GR0O3Bc2CAzq",
        "outputId": "361921cf-b69d-4215-85d1-4b3e57cb2fb0"
      },
      "execution_count": 35,
      "outputs": [
        {
          "output_type": "execute_result",
          "data": {
            "text/plain": [
              "          Price  Mileage   Make    Model      Trim   Type  Cylinder  Liter  \\\n",
              "0  17314.103129     8221  Buick  Century  Sedan 4D  Sedan         6    3.1   \n",
              "1  17542.036083     9135  Buick  Century  Sedan 4D  Sedan         6    3.1   \n",
              "2  16218.847862    13196  Buick  Century  Sedan 4D  Sedan         6    3.1   \n",
              "3  16336.913140    16342  Buick  Century  Sedan 4D  Sedan         6    3.1   \n",
              "4  16339.170324    19832  Buick  Century  Sedan 4D  Sedan         6    3.1   \n",
              "\n",
              "   Doors  Cruise  Sound  Leather  \n",
              "0      4       1      1        1  \n",
              "1      4       1      1        0  \n",
              "2      4       1      1        0  \n",
              "3      4       1      0        0  \n",
              "4      4       1      0        1  "
            ],
            "text/html": [
              "\n",
              "  <div id=\"df-10cac9f0-3517-4dd6-a2e4-334e33d23b43\">\n",
              "    <div class=\"colab-df-container\">\n",
              "      <div>\n",
              "<style scoped>\n",
              "    .dataframe tbody tr th:only-of-type {\n",
              "        vertical-align: middle;\n",
              "    }\n",
              "\n",
              "    .dataframe tbody tr th {\n",
              "        vertical-align: top;\n",
              "    }\n",
              "\n",
              "    .dataframe thead th {\n",
              "        text-align: right;\n",
              "    }\n",
              "</style>\n",
              "<table border=\"1\" class=\"dataframe\">\n",
              "  <thead>\n",
              "    <tr style=\"text-align: right;\">\n",
              "      <th></th>\n",
              "      <th>Price</th>\n",
              "      <th>Mileage</th>\n",
              "      <th>Make</th>\n",
              "      <th>Model</th>\n",
              "      <th>Trim</th>\n",
              "      <th>Type</th>\n",
              "      <th>Cylinder</th>\n",
              "      <th>Liter</th>\n",
              "      <th>Doors</th>\n",
              "      <th>Cruise</th>\n",
              "      <th>Sound</th>\n",
              "      <th>Leather</th>\n",
              "    </tr>\n",
              "  </thead>\n",
              "  <tbody>\n",
              "    <tr>\n",
              "      <th>0</th>\n",
              "      <td>17314.103129</td>\n",
              "      <td>8221</td>\n",
              "      <td>Buick</td>\n",
              "      <td>Century</td>\n",
              "      <td>Sedan 4D</td>\n",
              "      <td>Sedan</td>\n",
              "      <td>6</td>\n",
              "      <td>3.1</td>\n",
              "      <td>4</td>\n",
              "      <td>1</td>\n",
              "      <td>1</td>\n",
              "      <td>1</td>\n",
              "    </tr>\n",
              "    <tr>\n",
              "      <th>1</th>\n",
              "      <td>17542.036083</td>\n",
              "      <td>9135</td>\n",
              "      <td>Buick</td>\n",
              "      <td>Century</td>\n",
              "      <td>Sedan 4D</td>\n",
              "      <td>Sedan</td>\n",
              "      <td>6</td>\n",
              "      <td>3.1</td>\n",
              "      <td>4</td>\n",
              "      <td>1</td>\n",
              "      <td>1</td>\n",
              "      <td>0</td>\n",
              "    </tr>\n",
              "    <tr>\n",
              "      <th>2</th>\n",
              "      <td>16218.847862</td>\n",
              "      <td>13196</td>\n",
              "      <td>Buick</td>\n",
              "      <td>Century</td>\n",
              "      <td>Sedan 4D</td>\n",
              "      <td>Sedan</td>\n",
              "      <td>6</td>\n",
              "      <td>3.1</td>\n",
              "      <td>4</td>\n",
              "      <td>1</td>\n",
              "      <td>1</td>\n",
              "      <td>0</td>\n",
              "    </tr>\n",
              "    <tr>\n",
              "      <th>3</th>\n",
              "      <td>16336.913140</td>\n",
              "      <td>16342</td>\n",
              "      <td>Buick</td>\n",
              "      <td>Century</td>\n",
              "      <td>Sedan 4D</td>\n",
              "      <td>Sedan</td>\n",
              "      <td>6</td>\n",
              "      <td>3.1</td>\n",
              "      <td>4</td>\n",
              "      <td>1</td>\n",
              "      <td>0</td>\n",
              "      <td>0</td>\n",
              "    </tr>\n",
              "    <tr>\n",
              "      <th>4</th>\n",
              "      <td>16339.170324</td>\n",
              "      <td>19832</td>\n",
              "      <td>Buick</td>\n",
              "      <td>Century</td>\n",
              "      <td>Sedan 4D</td>\n",
              "      <td>Sedan</td>\n",
              "      <td>6</td>\n",
              "      <td>3.1</td>\n",
              "      <td>4</td>\n",
              "      <td>1</td>\n",
              "      <td>0</td>\n",
              "      <td>1</td>\n",
              "    </tr>\n",
              "  </tbody>\n",
              "</table>\n",
              "</div>\n",
              "      <button class=\"colab-df-convert\" onclick=\"convertToInteractive('df-10cac9f0-3517-4dd6-a2e4-334e33d23b43')\"\n",
              "              title=\"Convert this dataframe to an interactive table.\"\n",
              "              style=\"display:none;\">\n",
              "        \n",
              "  <svg xmlns=\"http://www.w3.org/2000/svg\" height=\"24px\"viewBox=\"0 0 24 24\"\n",
              "       width=\"24px\">\n",
              "    <path d=\"M0 0h24v24H0V0z\" fill=\"none\"/>\n",
              "    <path d=\"M18.56 5.44l.94 2.06.94-2.06 2.06-.94-2.06-.94-.94-2.06-.94 2.06-2.06.94zm-11 1L8.5 8.5l.94-2.06 2.06-.94-2.06-.94L8.5 2.5l-.94 2.06-2.06.94zm10 10l.94 2.06.94-2.06 2.06-.94-2.06-.94-.94-2.06-.94 2.06-2.06.94z\"/><path d=\"M17.41 7.96l-1.37-1.37c-.4-.4-.92-.59-1.43-.59-.52 0-1.04.2-1.43.59L10.3 9.45l-7.72 7.72c-.78.78-.78 2.05 0 2.83L4 21.41c.39.39.9.59 1.41.59.51 0 1.02-.2 1.41-.59l7.78-7.78 2.81-2.81c.8-.78.8-2.07 0-2.86zM5.41 20L4 18.59l7.72-7.72 1.47 1.35L5.41 20z\"/>\n",
              "  </svg>\n",
              "      </button>\n",
              "      \n",
              "  <style>\n",
              "    .colab-df-container {\n",
              "      display:flex;\n",
              "      flex-wrap:wrap;\n",
              "      gap: 12px;\n",
              "    }\n",
              "\n",
              "    .colab-df-convert {\n",
              "      background-color: #E8F0FE;\n",
              "      border: none;\n",
              "      border-radius: 50%;\n",
              "      cursor: pointer;\n",
              "      display: none;\n",
              "      fill: #1967D2;\n",
              "      height: 32px;\n",
              "      padding: 0 0 0 0;\n",
              "      width: 32px;\n",
              "    }\n",
              "\n",
              "    .colab-df-convert:hover {\n",
              "      background-color: #E2EBFA;\n",
              "      box-shadow: 0px 1px 2px rgba(60, 64, 67, 0.3), 0px 1px 3px 1px rgba(60, 64, 67, 0.15);\n",
              "      fill: #174EA6;\n",
              "    }\n",
              "\n",
              "    [theme=dark] .colab-df-convert {\n",
              "      background-color: #3B4455;\n",
              "      fill: #D2E3FC;\n",
              "    }\n",
              "\n",
              "    [theme=dark] .colab-df-convert:hover {\n",
              "      background-color: #434B5C;\n",
              "      box-shadow: 0px 1px 3px 1px rgba(0, 0, 0, 0.15);\n",
              "      filter: drop-shadow(0px 1px 2px rgba(0, 0, 0, 0.3));\n",
              "      fill: #FFFFFF;\n",
              "    }\n",
              "  </style>\n",
              "\n",
              "      <script>\n",
              "        const buttonEl =\n",
              "          document.querySelector('#df-10cac9f0-3517-4dd6-a2e4-334e33d23b43 button.colab-df-convert');\n",
              "        buttonEl.style.display =\n",
              "          google.colab.kernel.accessAllowed ? 'block' : 'none';\n",
              "\n",
              "        async function convertToInteractive(key) {\n",
              "          const element = document.querySelector('#df-10cac9f0-3517-4dd6-a2e4-334e33d23b43');\n",
              "          const dataTable =\n",
              "            await google.colab.kernel.invokeFunction('convertToInteractive',\n",
              "                                                     [key], {});\n",
              "          if (!dataTable) return;\n",
              "\n",
              "          const docLinkHtml = 'Like what you see? Visit the ' +\n",
              "            '<a target=\"_blank\" href=https://colab.research.google.com/notebooks/data_table.ipynb>data table notebook</a>'\n",
              "            + ' to learn more about interactive tables.';\n",
              "          element.innerHTML = '';\n",
              "          dataTable['output_type'] = 'display_data';\n",
              "          await google.colab.output.renderOutput(dataTable, element);\n",
              "          const docLink = document.createElement('div');\n",
              "          docLink.innerHTML = docLinkHtml;\n",
              "          element.appendChild(docLink);\n",
              "        }\n",
              "      </script>\n",
              "    </div>\n",
              "  </div>\n",
              "  "
            ]
          },
          "metadata": {},
          "execution_count": 35
        }
      ]
    },
    {
      "cell_type": "code",
      "source": [
        "df.isnull().sum()"
      ],
      "metadata": {
        "colab": {
          "base_uri": "https://localhost:8080/"
        },
        "id": "iTyGGmnpCSHZ",
        "outputId": "4ce4bd44-2fab-4659-8d18-1e4cf82c3cc4"
      },
      "execution_count": 36,
      "outputs": [
        {
          "output_type": "execute_result",
          "data": {
            "text/plain": [
              "Price       0\n",
              "Mileage     0\n",
              "Make        0\n",
              "Model       0\n",
              "Trim        0\n",
              "Type        0\n",
              "Cylinder    0\n",
              "Liter       0\n",
              "Doors       0\n",
              "Cruise      0\n",
              "Sound       0\n",
              "Leather     0\n",
              "dtype: int64"
            ]
          },
          "metadata": {},
          "execution_count": 36
        }
      ]
    },
    {
      "cell_type": "code",
      "source": [
        "X = df.iloc[:,1]\n",
        "y = df.iloc[:,0]\n",
        "\n",
        "X = np.array(X).reshape((-1,1))\n",
        "y = np.array(y).reshape((-1,1))"
      ],
      "metadata": {
        "id": "y5NGn3NUDj-N"
      },
      "execution_count": 37,
      "outputs": []
    },
    {
      "cell_type": "code",
      "source": [
        "model = LinearRegression()\n",
        "model.fit(X,y)"
      ],
      "metadata": {
        "colab": {
          "base_uri": "https://localhost:8080/"
        },
        "id": "8HZDvCpBDt1e",
        "outputId": "0c216a8d-83fd-4f61-ddb6-9e90e54c4aeb"
      },
      "execution_count": 38,
      "outputs": [
        {
          "output_type": "execute_result",
          "data": {
            "text/plain": [
              "LinearRegression()"
            ]
          },
          "metadata": {},
          "execution_count": 38
        }
      ]
    },
    {
      "cell_type": "code",
      "source": [
        "print(\"y = \",float(model.coef_),\"x+\",float(model.intercept_))"
      ],
      "metadata": {
        "colab": {
          "base_uri": "https://localhost:8080/"
        },
        "id": "0AsGl_fnD8ip",
        "outputId": "d819a0b3-ba2a-4067-80a4-26ab58ea9763"
      },
      "execution_count": 39,
      "outputs": [
        {
          "output_type": "stream",
          "name": "stdout",
          "text": [
            "y =  -0.1725205027912493 x+ 24764.559006061685\n"
          ]
        }
      ]
    },
    {
      "cell_type": "code",
      "source": [
        "pred = model.predict(X)\n",
        "print(\"Score with Mileage column:\",r2_score(y, pred))"
      ],
      "metadata": {
        "colab": {
          "base_uri": "https://localhost:8080/"
        },
        "id": "Fnh25Dx6EPB1",
        "outputId": "e66fdd02-341b-43e6-b050-5ae2467b4e2e"
      },
      "execution_count": 40,
      "outputs": [
        {
          "output_type": "stream",
          "name": "stdout",
          "text": [
            "Score with Mileage column: 0.02046344732348926\n"
          ]
        }
      ]
    },
    {
      "cell_type": "markdown",
      "source": [
        "# Part-2 Solution"
      ],
      "metadata": {
        "id": "k-xFD7F9Eyw0"
      }
    },
    {
      "cell_type": "code",
      "source": [
        "X2 = df.iloc[:,[1,6,7,8,9,10,11]]\n",
        "y2 = df.iloc[:,0]\n",
        "\n",
        "X2 = np.array(X2).reshape((-1,7))\n",
        "y2 = np.array(y2).reshape((-1,1))"
      ],
      "metadata": {
        "id": "3S8eO_ZuE1-K"
      },
      "execution_count": 41,
      "outputs": []
    },
    {
      "cell_type": "code",
      "source": [
        "X2[0]"
      ],
      "metadata": {
        "colab": {
          "base_uri": "https://localhost:8080/"
        },
        "id": "okFZZlMbFqb6",
        "outputId": "94245be7-c424-4562-cb31-3c788e6f85f5"
      },
      "execution_count": 43,
      "outputs": [
        {
          "output_type": "execute_result",
          "data": {
            "text/plain": [
              "array([8.221e+03, 6.000e+00, 3.100e+00, 4.000e+00, 1.000e+00, 1.000e+00,\n",
              "       1.000e+00])"
            ]
          },
          "metadata": {},
          "execution_count": 43
        }
      ]
    },
    {
      "cell_type": "code",
      "source": [
        "model2 = LinearRegression()\n",
        "model2.fit(X2,y2)"
      ],
      "metadata": {
        "colab": {
          "base_uri": "https://localhost:8080/"
        },
        "id": "XNw4E7scFuKa",
        "outputId": "5c3ccaf2-44ea-435f-b8d4-33d042601d57"
      },
      "execution_count": 44,
      "outputs": [
        {
          "output_type": "execute_result",
          "data": {
            "text/plain": [
              "LinearRegression()"
            ]
          },
          "metadata": {},
          "execution_count": 44
        }
      ]
    },
    {
      "cell_type": "code",
      "source": [
        "print(\"y = \",float(model2.coef_[0][0]),\"x1+\",\n",
        "      float(model2.coef_[0][1]),\"x2+\",\n",
        "      float(model2.coef_[0][2]),\"x3+\",\n",
        "      float(model2.coef_[0][3]),\"x4+\",\n",
        "      float(model2.coef_[0][4]),\"x5+\",\n",
        "      float(model2.coef_[0][5]),\"x6+\",\n",
        "      float(model2.coef_[0][6]),\"x7+\",\n",
        "      float(model2.intercept_))"
      ],
      "metadata": {
        "colab": {
          "base_uri": "https://localhost:8080/"
        },
        "id": "55bQtr5RGU1l",
        "outputId": "4c082f94-eab3-41b5-e966-b756d2cfbc4c"
      },
      "execution_count": 47,
      "outputs": [
        {
          "output_type": "stream",
          "name": "stdout",
          "text": [
            "y =  -0.16974783233303692 x1+ 3792.378930782515 x2+ -787.2207316338321 x3+ -1542.745846382068 x4+ 6288.997149849932 x5+ -1993.795275698427 x6+ 3349.361619613555 x7+ 6758.755143598106\n"
          ]
        }
      ]
    },
    {
      "cell_type": "code",
      "source": [
        "pred2 = model2.predict(X2)\n",
        "print(\"Score with all columns:\",r2_score(y2, pred2))"
      ],
      "metadata": {
        "colab": {
          "base_uri": "https://localhost:8080/"
        },
        "id": "dP9Y9KH5Hhf8",
        "outputId": "f11c393c-ab86-49b5-9e94-851eef106722"
      },
      "execution_count": 48,
      "outputs": [
        {
          "output_type": "stream",
          "name": "stdout",
          "text": [
            "Score with all columns: 0.4462643536728379\n"
          ]
        }
      ]
    },
    {
      "cell_type": "code",
      "source": [
        "l = []\n",
        "for i in range(1,8):\n",
        "  pca = PCA(n_components=i,random_state=0)\n",
        "  pca.fit(X2)\n",
        "  x=pca.transform(X2)\n",
        "\n",
        "  model3 = LinearRegression()\n",
        "  model3.fit(x,y2)\n",
        "\n",
        "  preds3 = model3.predict(x)\n",
        "\n",
        "  l.append(r2_score(y, preds3))\n",
        "  print(\"With\",i,\"columns:\",l[i-1])"
      ],
      "metadata": {
        "colab": {
          "base_uri": "https://localhost:8080/"
        },
        "id": "M8Bt_dumHu82",
        "outputId": "ac599a05-1af4-4f4f-9d34-ad858f4a6df1"
      },
      "execution_count": 56,
      "outputs": [
        {
          "output_type": "stream",
          "name": "stdout",
          "text": [
            "With 1 columns: 0.020463447494586617\n",
            "With 2 columns: 0.3504497977596356\n",
            "With 3 columns: 0.3646064800564265\n",
            "With 4 columns: 0.3673863089598691\n",
            "With 5 columns: 0.37068136274290675\n",
            "With 6 columns: 0.43879954665861454\n",
            "With 7 columns: 0.446264353672838\n"
          ]
        }
      ]
    },
    {
      "cell_type": "markdown",
      "source": [
        "# Part-3 Solution"
      ],
      "metadata": {
        "id": "ckk6udo1Ihi_"
      }
    },
    {
      "cell_type": "code",
      "source": [
        "print(df['Make'].unique())\n",
        "print(df['Model'].unique())\n",
        "print(df['Trim'].unique())\n",
        "print(df['Type'].unique())"
      ],
      "metadata": {
        "colab": {
          "base_uri": "https://localhost:8080/"
        },
        "id": "uRb19ZjCCXLc",
        "outputId": "9f5648f9-d9ca-4f8f-9c4b-bd34b2626efe"
      },
      "execution_count": 8,
      "outputs": [
        {
          "output_type": "stream",
          "name": "stdout",
          "text": [
            "['Buick' 'Cadillac' 'Chevrolet' 'Pontiac' 'SAAB' 'Saturn']\n",
            "['Century' 'Lacrosse' 'Lesabre' 'Park Avenue' 'CST-V' 'CTS' 'Deville'\n",
            " 'STS-V6' 'STS-V8' 'XLR-V8' 'AVEO' 'Cavalier' 'Classic' 'Cobalt'\n",
            " 'Corvette' 'Impala' 'Malibu' 'Monte Carlo' 'Bonneville' 'G6' 'Grand Am'\n",
            " 'Grand Prix' 'GTO' 'Sunfire' 'Vibe' '9_3' '9_3 HO' '9_5' '9_5 HO'\n",
            " '9-2X AWD' 'Ion' 'L Series']\n",
            "['Sedan 4D' 'CX Sedan 4D' 'CXL Sedan 4D' 'CXS Sedan 4D' 'Custom Sedan 4D'\n",
            " 'Limited Sedan 4D' 'Special Ed Ultra 4D' 'DHS Sedan 4D' 'DTS Sedan 4D'\n",
            " 'Hardtop Conv 2D' 'LS Hatchback 4D' 'LS Sedan 4D' 'LT Hatchback 4D'\n",
            " 'LT Sedan 4D' 'SVM Hatchback 4D' 'SVM Sedan 4D' 'Coupe 2D' 'LS Coupe 2D'\n",
            " 'LS Sport Coupe 2D' 'LS Sport Sedan 4D' 'Conv 2D' 'SS Sedan 4D'\n",
            " 'LS MAXX Hback 4D' 'LT MAXX Hback 4D' 'MAXX Hback 4D' 'LT Coupe 2D'\n",
            " 'SS Coupe 2D' 'GXP Sedan 4D' 'SE Sedan 4D' 'SLE Sedan 4D' 'GT Sedan 4D'\n",
            " 'GT Coupe 2D' 'GTP Sedan 4D' 'AWD Sportwagon 4D' 'GT Sportwagon'\n",
            " 'Sportwagon 4D' 'Linear Conv 2D' 'Linear Sedan 4D' 'Aero Conv 2D'\n",
            " 'Aero Sedan 4D' 'Arc Conv 2D' 'Arc Sedan 4D' 'Arc Wagon 4D'\n",
            " 'Linear Wagon 4D' 'Aero Wagon 4D' 'Quad Coupe 2D' 'L300 Sedan 4D']\n",
            "['Sedan' 'Convertible' 'Hatchback' 'Coupe' 'Wagon']\n"
          ]
        }
      ]
    },
    {
      "cell_type": "code",
      "source": [
        "encoded_df = pd.get_dummies(df, columns = ['Make','Model','Trim','Type'])"
      ],
      "metadata": {
        "id": "QU6cXR-HDFCm"
      },
      "execution_count": 9,
      "outputs": []
    },
    {
      "cell_type": "code",
      "source": [
        "encoded_df.head(10)"
      ],
      "metadata": {
        "colab": {
          "base_uri": "https://localhost:8080/",
          "height": 491
        },
        "id": "CWFypKmSDVC8",
        "outputId": "4a2c955d-42cd-4140-ada1-470c53393798"
      },
      "execution_count": 10,
      "outputs": [
        {
          "output_type": "execute_result",
          "data": {
            "text/plain": [
              "          Price  Mileage  Cylinder  Liter  Doors  Cruise  Sound  Leather  \\\n",
              "0  17314.103129     8221         6    3.1      4       1      1        1   \n",
              "1  17542.036083     9135         6    3.1      4       1      1        0   \n",
              "2  16218.847862    13196         6    3.1      4       1      1        0   \n",
              "3  16336.913140    16342         6    3.1      4       1      0        0   \n",
              "4  16339.170324    19832         6    3.1      4       1      0        1   \n",
              "5  15709.052821    22236         6    3.1      4       1      1        0   \n",
              "6  15230.003390    22576         6    3.1      4       1      1        0   \n",
              "7  15048.042184    22964         6    3.1      4       1      1        0   \n",
              "8  14862.093870    24021         6    3.1      4       1      0        1   \n",
              "9  15295.018267    27325         6    3.1      4       1      1        1   \n",
              "\n",
              "   Make_Buick  Make_Cadillac  ...  Trim_SVM Hatchback 4D  Trim_SVM Sedan 4D  \\\n",
              "0           1              0  ...                      0                  0   \n",
              "1           1              0  ...                      0                  0   \n",
              "2           1              0  ...                      0                  0   \n",
              "3           1              0  ...                      0                  0   \n",
              "4           1              0  ...                      0                  0   \n",
              "5           1              0  ...                      0                  0   \n",
              "6           1              0  ...                      0                  0   \n",
              "7           1              0  ...                      0                  0   \n",
              "8           1              0  ...                      0                  0   \n",
              "9           1              0  ...                      0                  0   \n",
              "\n",
              "   Trim_Sedan 4D  Trim_Special Ed Ultra 4D  Trim_Sportwagon 4D  \\\n",
              "0              1                         0                   0   \n",
              "1              1                         0                   0   \n",
              "2              1                         0                   0   \n",
              "3              1                         0                   0   \n",
              "4              1                         0                   0   \n",
              "5              1                         0                   0   \n",
              "6              1                         0                   0   \n",
              "7              1                         0                   0   \n",
              "8              1                         0                   0   \n",
              "9              1                         0                   0   \n",
              "\n",
              "   Type_Convertible  Type_Coupe  Type_Hatchback  Type_Sedan  Type_Wagon  \n",
              "0                 0           0               0           1           0  \n",
              "1                 0           0               0           1           0  \n",
              "2                 0           0               0           1           0  \n",
              "3                 0           0               0           1           0  \n",
              "4                 0           0               0           1           0  \n",
              "5                 0           0               0           1           0  \n",
              "6                 0           0               0           1           0  \n",
              "7                 0           0               0           1           0  \n",
              "8                 0           0               0           1           0  \n",
              "9                 0           0               0           1           0  \n",
              "\n",
              "[10 rows x 98 columns]"
            ],
            "text/html": [
              "\n",
              "  <div id=\"df-63a955ed-a42c-4e45-810a-b02666cf04d5\">\n",
              "    <div class=\"colab-df-container\">\n",
              "      <div>\n",
              "<style scoped>\n",
              "    .dataframe tbody tr th:only-of-type {\n",
              "        vertical-align: middle;\n",
              "    }\n",
              "\n",
              "    .dataframe tbody tr th {\n",
              "        vertical-align: top;\n",
              "    }\n",
              "\n",
              "    .dataframe thead th {\n",
              "        text-align: right;\n",
              "    }\n",
              "</style>\n",
              "<table border=\"1\" class=\"dataframe\">\n",
              "  <thead>\n",
              "    <tr style=\"text-align: right;\">\n",
              "      <th></th>\n",
              "      <th>Price</th>\n",
              "      <th>Mileage</th>\n",
              "      <th>Cylinder</th>\n",
              "      <th>Liter</th>\n",
              "      <th>Doors</th>\n",
              "      <th>Cruise</th>\n",
              "      <th>Sound</th>\n",
              "      <th>Leather</th>\n",
              "      <th>Make_Buick</th>\n",
              "      <th>Make_Cadillac</th>\n",
              "      <th>...</th>\n",
              "      <th>Trim_SVM Hatchback 4D</th>\n",
              "      <th>Trim_SVM Sedan 4D</th>\n",
              "      <th>Trim_Sedan 4D</th>\n",
              "      <th>Trim_Special Ed Ultra 4D</th>\n",
              "      <th>Trim_Sportwagon 4D</th>\n",
              "      <th>Type_Convertible</th>\n",
              "      <th>Type_Coupe</th>\n",
              "      <th>Type_Hatchback</th>\n",
              "      <th>Type_Sedan</th>\n",
              "      <th>Type_Wagon</th>\n",
              "    </tr>\n",
              "  </thead>\n",
              "  <tbody>\n",
              "    <tr>\n",
              "      <th>0</th>\n",
              "      <td>17314.103129</td>\n",
              "      <td>8221</td>\n",
              "      <td>6</td>\n",
              "      <td>3.1</td>\n",
              "      <td>4</td>\n",
              "      <td>1</td>\n",
              "      <td>1</td>\n",
              "      <td>1</td>\n",
              "      <td>1</td>\n",
              "      <td>0</td>\n",
              "      <td>...</td>\n",
              "      <td>0</td>\n",
              "      <td>0</td>\n",
              "      <td>1</td>\n",
              "      <td>0</td>\n",
              "      <td>0</td>\n",
              "      <td>0</td>\n",
              "      <td>0</td>\n",
              "      <td>0</td>\n",
              "      <td>1</td>\n",
              "      <td>0</td>\n",
              "    </tr>\n",
              "    <tr>\n",
              "      <th>1</th>\n",
              "      <td>17542.036083</td>\n",
              "      <td>9135</td>\n",
              "      <td>6</td>\n",
              "      <td>3.1</td>\n",
              "      <td>4</td>\n",
              "      <td>1</td>\n",
              "      <td>1</td>\n",
              "      <td>0</td>\n",
              "      <td>1</td>\n",
              "      <td>0</td>\n",
              "      <td>...</td>\n",
              "      <td>0</td>\n",
              "      <td>0</td>\n",
              "      <td>1</td>\n",
              "      <td>0</td>\n",
              "      <td>0</td>\n",
              "      <td>0</td>\n",
              "      <td>0</td>\n",
              "      <td>0</td>\n",
              "      <td>1</td>\n",
              "      <td>0</td>\n",
              "    </tr>\n",
              "    <tr>\n",
              "      <th>2</th>\n",
              "      <td>16218.847862</td>\n",
              "      <td>13196</td>\n",
              "      <td>6</td>\n",
              "      <td>3.1</td>\n",
              "      <td>4</td>\n",
              "      <td>1</td>\n",
              "      <td>1</td>\n",
              "      <td>0</td>\n",
              "      <td>1</td>\n",
              "      <td>0</td>\n",
              "      <td>...</td>\n",
              "      <td>0</td>\n",
              "      <td>0</td>\n",
              "      <td>1</td>\n",
              "      <td>0</td>\n",
              "      <td>0</td>\n",
              "      <td>0</td>\n",
              "      <td>0</td>\n",
              "      <td>0</td>\n",
              "      <td>1</td>\n",
              "      <td>0</td>\n",
              "    </tr>\n",
              "    <tr>\n",
              "      <th>3</th>\n",
              "      <td>16336.913140</td>\n",
              "      <td>16342</td>\n",
              "      <td>6</td>\n",
              "      <td>3.1</td>\n",
              "      <td>4</td>\n",
              "      <td>1</td>\n",
              "      <td>0</td>\n",
              "      <td>0</td>\n",
              "      <td>1</td>\n",
              "      <td>0</td>\n",
              "      <td>...</td>\n",
              "      <td>0</td>\n",
              "      <td>0</td>\n",
              "      <td>1</td>\n",
              "      <td>0</td>\n",
              "      <td>0</td>\n",
              "      <td>0</td>\n",
              "      <td>0</td>\n",
              "      <td>0</td>\n",
              "      <td>1</td>\n",
              "      <td>0</td>\n",
              "    </tr>\n",
              "    <tr>\n",
              "      <th>4</th>\n",
              "      <td>16339.170324</td>\n",
              "      <td>19832</td>\n",
              "      <td>6</td>\n",
              "      <td>3.1</td>\n",
              "      <td>4</td>\n",
              "      <td>1</td>\n",
              "      <td>0</td>\n",
              "      <td>1</td>\n",
              "      <td>1</td>\n",
              "      <td>0</td>\n",
              "      <td>...</td>\n",
              "      <td>0</td>\n",
              "      <td>0</td>\n",
              "      <td>1</td>\n",
              "      <td>0</td>\n",
              "      <td>0</td>\n",
              "      <td>0</td>\n",
              "      <td>0</td>\n",
              "      <td>0</td>\n",
              "      <td>1</td>\n",
              "      <td>0</td>\n",
              "    </tr>\n",
              "    <tr>\n",
              "      <th>5</th>\n",
              "      <td>15709.052821</td>\n",
              "      <td>22236</td>\n",
              "      <td>6</td>\n",
              "      <td>3.1</td>\n",
              "      <td>4</td>\n",
              "      <td>1</td>\n",
              "      <td>1</td>\n",
              "      <td>0</td>\n",
              "      <td>1</td>\n",
              "      <td>0</td>\n",
              "      <td>...</td>\n",
              "      <td>0</td>\n",
              "      <td>0</td>\n",
              "      <td>1</td>\n",
              "      <td>0</td>\n",
              "      <td>0</td>\n",
              "      <td>0</td>\n",
              "      <td>0</td>\n",
              "      <td>0</td>\n",
              "      <td>1</td>\n",
              "      <td>0</td>\n",
              "    </tr>\n",
              "    <tr>\n",
              "      <th>6</th>\n",
              "      <td>15230.003390</td>\n",
              "      <td>22576</td>\n",
              "      <td>6</td>\n",
              "      <td>3.1</td>\n",
              "      <td>4</td>\n",
              "      <td>1</td>\n",
              "      <td>1</td>\n",
              "      <td>0</td>\n",
              "      <td>1</td>\n",
              "      <td>0</td>\n",
              "      <td>...</td>\n",
              "      <td>0</td>\n",
              "      <td>0</td>\n",
              "      <td>1</td>\n",
              "      <td>0</td>\n",
              "      <td>0</td>\n",
              "      <td>0</td>\n",
              "      <td>0</td>\n",
              "      <td>0</td>\n",
              "      <td>1</td>\n",
              "      <td>0</td>\n",
              "    </tr>\n",
              "    <tr>\n",
              "      <th>7</th>\n",
              "      <td>15048.042184</td>\n",
              "      <td>22964</td>\n",
              "      <td>6</td>\n",
              "      <td>3.1</td>\n",
              "      <td>4</td>\n",
              "      <td>1</td>\n",
              "      <td>1</td>\n",
              "      <td>0</td>\n",
              "      <td>1</td>\n",
              "      <td>0</td>\n",
              "      <td>...</td>\n",
              "      <td>0</td>\n",
              "      <td>0</td>\n",
              "      <td>1</td>\n",
              "      <td>0</td>\n",
              "      <td>0</td>\n",
              "      <td>0</td>\n",
              "      <td>0</td>\n",
              "      <td>0</td>\n",
              "      <td>1</td>\n",
              "      <td>0</td>\n",
              "    </tr>\n",
              "    <tr>\n",
              "      <th>8</th>\n",
              "      <td>14862.093870</td>\n",
              "      <td>24021</td>\n",
              "      <td>6</td>\n",
              "      <td>3.1</td>\n",
              "      <td>4</td>\n",
              "      <td>1</td>\n",
              "      <td>0</td>\n",
              "      <td>1</td>\n",
              "      <td>1</td>\n",
              "      <td>0</td>\n",
              "      <td>...</td>\n",
              "      <td>0</td>\n",
              "      <td>0</td>\n",
              "      <td>1</td>\n",
              "      <td>0</td>\n",
              "      <td>0</td>\n",
              "      <td>0</td>\n",
              "      <td>0</td>\n",
              "      <td>0</td>\n",
              "      <td>1</td>\n",
              "      <td>0</td>\n",
              "    </tr>\n",
              "    <tr>\n",
              "      <th>9</th>\n",
              "      <td>15295.018267</td>\n",
              "      <td>27325</td>\n",
              "      <td>6</td>\n",
              "      <td>3.1</td>\n",
              "      <td>4</td>\n",
              "      <td>1</td>\n",
              "      <td>1</td>\n",
              "      <td>1</td>\n",
              "      <td>1</td>\n",
              "      <td>0</td>\n",
              "      <td>...</td>\n",
              "      <td>0</td>\n",
              "      <td>0</td>\n",
              "      <td>1</td>\n",
              "      <td>0</td>\n",
              "      <td>0</td>\n",
              "      <td>0</td>\n",
              "      <td>0</td>\n",
              "      <td>0</td>\n",
              "      <td>1</td>\n",
              "      <td>0</td>\n",
              "    </tr>\n",
              "  </tbody>\n",
              "</table>\n",
              "<p>10 rows × 98 columns</p>\n",
              "</div>\n",
              "      <button class=\"colab-df-convert\" onclick=\"convertToInteractive('df-63a955ed-a42c-4e45-810a-b02666cf04d5')\"\n",
              "              title=\"Convert this dataframe to an interactive table.\"\n",
              "              style=\"display:none;\">\n",
              "        \n",
              "  <svg xmlns=\"http://www.w3.org/2000/svg\" height=\"24px\"viewBox=\"0 0 24 24\"\n",
              "       width=\"24px\">\n",
              "    <path d=\"M0 0h24v24H0V0z\" fill=\"none\"/>\n",
              "    <path d=\"M18.56 5.44l.94 2.06.94-2.06 2.06-.94-2.06-.94-.94-2.06-.94 2.06-2.06.94zm-11 1L8.5 8.5l.94-2.06 2.06-.94-2.06-.94L8.5 2.5l-.94 2.06-2.06.94zm10 10l.94 2.06.94-2.06 2.06-.94-2.06-.94-.94-2.06-.94 2.06-2.06.94z\"/><path d=\"M17.41 7.96l-1.37-1.37c-.4-.4-.92-.59-1.43-.59-.52 0-1.04.2-1.43.59L10.3 9.45l-7.72 7.72c-.78.78-.78 2.05 0 2.83L4 21.41c.39.39.9.59 1.41.59.51 0 1.02-.2 1.41-.59l7.78-7.78 2.81-2.81c.8-.78.8-2.07 0-2.86zM5.41 20L4 18.59l7.72-7.72 1.47 1.35L5.41 20z\"/>\n",
              "  </svg>\n",
              "      </button>\n",
              "      \n",
              "  <style>\n",
              "    .colab-df-container {\n",
              "      display:flex;\n",
              "      flex-wrap:wrap;\n",
              "      gap: 12px;\n",
              "    }\n",
              "\n",
              "    .colab-df-convert {\n",
              "      background-color: #E8F0FE;\n",
              "      border: none;\n",
              "      border-radius: 50%;\n",
              "      cursor: pointer;\n",
              "      display: none;\n",
              "      fill: #1967D2;\n",
              "      height: 32px;\n",
              "      padding: 0 0 0 0;\n",
              "      width: 32px;\n",
              "    }\n",
              "\n",
              "    .colab-df-convert:hover {\n",
              "      background-color: #E2EBFA;\n",
              "      box-shadow: 0px 1px 2px rgba(60, 64, 67, 0.3), 0px 1px 3px 1px rgba(60, 64, 67, 0.15);\n",
              "      fill: #174EA6;\n",
              "    }\n",
              "\n",
              "    [theme=dark] .colab-df-convert {\n",
              "      background-color: #3B4455;\n",
              "      fill: #D2E3FC;\n",
              "    }\n",
              "\n",
              "    [theme=dark] .colab-df-convert:hover {\n",
              "      background-color: #434B5C;\n",
              "      box-shadow: 0px 1px 3px 1px rgba(0, 0, 0, 0.15);\n",
              "      filter: drop-shadow(0px 1px 2px rgba(0, 0, 0, 0.3));\n",
              "      fill: #FFFFFF;\n",
              "    }\n",
              "  </style>\n",
              "\n",
              "      <script>\n",
              "        const buttonEl =\n",
              "          document.querySelector('#df-63a955ed-a42c-4e45-810a-b02666cf04d5 button.colab-df-convert');\n",
              "        buttonEl.style.display =\n",
              "          google.colab.kernel.accessAllowed ? 'block' : 'none';\n",
              "\n",
              "        async function convertToInteractive(key) {\n",
              "          const element = document.querySelector('#df-63a955ed-a42c-4e45-810a-b02666cf04d5');\n",
              "          const dataTable =\n",
              "            await google.colab.kernel.invokeFunction('convertToInteractive',\n",
              "                                                     [key], {});\n",
              "          if (!dataTable) return;\n",
              "\n",
              "          const docLinkHtml = 'Like what you see? Visit the ' +\n",
              "            '<a target=\"_blank\" href=https://colab.research.google.com/notebooks/data_table.ipynb>data table notebook</a>'\n",
              "            + ' to learn more about interactive tables.';\n",
              "          element.innerHTML = '';\n",
              "          dataTable['output_type'] = 'display_data';\n",
              "          await google.colab.output.renderOutput(dataTable, element);\n",
              "          const docLink = document.createElement('div');\n",
              "          docLink.innerHTML = docLinkHtml;\n",
              "          element.appendChild(docLink);\n",
              "        }\n",
              "      </script>\n",
              "    </div>\n",
              "  </div>\n",
              "  "
            ]
          },
          "metadata": {},
          "execution_count": 10
        }
      ]
    },
    {
      "cell_type": "code",
      "source": [
        "X3 = encoded_df.iloc[:,1:99]\n",
        "y3 = encoded_df.iloc[:,0]\n",
        "\n",
        "X3 = np.array(X3).reshape((-1,97))\n",
        "y3 = np.array(y3).reshape((-1,1))"
      ],
      "metadata": {
        "id": "DOzMkAUIIr2X"
      },
      "execution_count": 61,
      "outputs": []
    },
    {
      "cell_type": "code",
      "source": [
        "l = []\n",
        "for i in range(1,98):\n",
        "  pca2 = PCA(n_components=i,random_state=0)\n",
        "  pca2.fit(X3)\n",
        "  x2=pca2.transform(X3)\n",
        "\n",
        "  model4 = LinearRegression()\n",
        "  model4.fit(x2,y3)\n",
        "\n",
        "  preds4 = model4.predict(x2)\n",
        "\n",
        "  l.append(r2_score(y3, preds4))\n",
        "  print(\"With\",i,\"columns:\",l[i-1])"
      ],
      "metadata": {
        "colab": {
          "base_uri": "https://localhost:8080/"
        },
        "id": "WVOeNE6pLVfl",
        "outputId": "6336eb1f-251c-4695-fcce-0127c05c6cf3"
      },
      "execution_count": 70,
      "outputs": [
        {
          "output_type": "stream",
          "name": "stdout",
          "text": [
            "With 1 columns: 0.020463447476670615\n",
            "With 2 columns: 0.3463746179965892\n",
            "With 3 columns: 0.354844220694815\n",
            "With 4 columns: 0.48399829069977074\n",
            "With 5 columns: 0.5245233822364945\n",
            "With 6 columns: 0.7513895392062465\n",
            "With 7 columns: 0.7533272011494492\n",
            "With 8 columns: 0.8157224608984136\n",
            "With 9 columns: 0.8285585281684755\n",
            "With 10 columns: 0.8533899276476711\n",
            "With 11 columns: 0.8533802490274434\n",
            "With 12 columns: 0.853538925134046\n",
            "With 13 columns: 0.8606554599708126\n",
            "With 14 columns: 0.9009467871524242\n",
            "With 15 columns: 0.901733068102241\n",
            "With 16 columns: 0.9029650988621798\n",
            "With 17 columns: 0.9180193209118185\n",
            "With 18 columns: 0.9184534308134052\n",
            "With 19 columns: 0.9214494192319863\n",
            "With 20 columns: 0.9226204802718533\n",
            "With 21 columns: 0.9221552964316928\n",
            "With 22 columns: 0.9236437276500394\n",
            "With 23 columns: 0.9234788577343084\n",
            "With 24 columns: 0.9253637402029359\n",
            "With 25 columns: 0.9256564901542834\n",
            "With 26 columns: 0.9304535534119325\n",
            "With 27 columns: 0.9306495777117311\n",
            "With 28 columns: 0.9336821836403763\n",
            "With 29 columns: 0.9348110666504398\n",
            "With 30 columns: 0.9373329935123734\n",
            "With 31 columns: 0.9727029586715867\n",
            "With 32 columns: 0.9764940231976957\n",
            "With 33 columns: 0.9769629465567427\n",
            "With 34 columns: 0.9778039957286515\n",
            "With 35 columns: 0.9776619937125022\n",
            "With 36 columns: 0.9777346512368589\n",
            "With 37 columns: 0.9779494547265211\n",
            "With 38 columns: 0.9778929729165399\n",
            "With 39 columns: 0.9780877524360615\n",
            "With 40 columns: 0.9782810486663868\n",
            "With 41 columns: 0.9786309722558321\n",
            "With 42 columns: 0.9793646954799454\n",
            "With 43 columns: 0.9807968258134716\n",
            "With 44 columns: 0.9801251608832132\n",
            "With 45 columns: 0.9804274986164448\n",
            "With 46 columns: 0.9804773754584962\n",
            "With 47 columns: 0.9810159434177621\n",
            "With 48 columns: 0.9809773563929254\n",
            "With 49 columns: 0.9824183867104759\n",
            "With 50 columns: 0.9817391730909208\n",
            "With 51 columns: 0.9816618332089933\n",
            "With 52 columns: 0.9824055857727436\n",
            "With 53 columns: 0.9824981371670973\n",
            "With 54 columns: 0.9830032161709293\n",
            "With 55 columns: 0.9830848648021964\n",
            "With 56 columns: 0.9832744822798991\n",
            "With 57 columns: 0.9838828767240869\n",
            "With 58 columns: 0.9840372018225707\n",
            "With 59 columns: 0.9840556935805521\n",
            "With 60 columns: 0.9846120100742902\n",
            "With 61 columns: 0.9854579158196799\n",
            "With 62 columns: 0.9858776074327428\n",
            "With 63 columns: 0.9865602818461001\n",
            "With 64 columns: 0.986890815079505\n",
            "With 65 columns: 0.9877513593472584\n",
            "With 66 columns: 0.9877553762425049\n",
            "With 67 columns: 0.9877873902122317\n",
            "With 68 columns: 0.9882355220663044\n",
            "With 69 columns: 0.988678831576559\n",
            "With 70 columns: 0.9891028441397677\n",
            "With 71 columns: 0.992176471462652\n",
            "With 72 columns: 0.9921857928152665\n",
            "With 73 columns: 0.9924082614213805\n",
            "With 74 columns: 0.9924082614213805\n",
            "With 75 columns: 0.9924082614213805\n",
            "With 76 columns: 0.9924082614213805\n",
            "With 77 columns: 0.9924082614213805\n",
            "With 78 columns: 0.9924082614213805\n",
            "With 79 columns: 0.9924082614213805\n",
            "With 80 columns: 0.9924082614213805\n",
            "With 81 columns: 0.9924082614213805\n",
            "With 82 columns: 0.9924082614213805\n",
            "With 83 columns: 0.9924082614213805\n",
            "With 84 columns: 0.9924082614213805\n",
            "With 85 columns: 0.9924082614213805\n",
            "With 86 columns: 0.9924082614213805\n",
            "With 87 columns: 0.9924082614213805\n",
            "With 88 columns: 0.9924082614213805\n",
            "With 89 columns: 0.9924082614213805\n",
            "With 90 columns: 0.9924082614213805\n",
            "With 91 columns: 0.9924082614213805\n",
            "With 92 columns: 0.9924082614213805\n",
            "With 93 columns: 0.9924082614213805\n",
            "With 94 columns: 0.9924082614213805\n",
            "With 95 columns: 0.9924082614213805\n",
            "With 96 columns: 0.9924082614213805\n",
            "With 97 columns: 0.9924082614213805\n"
          ]
        }
      ]
    },
    {
      "cell_type": "code",
      "source": [
        "for i in l:\n",
        "  if i>=0.992:\n",
        "    print(\"With\",l.index(i)+1,\"columns:\",i)"
      ],
      "metadata": {
        "colab": {
          "base_uri": "https://localhost:8080/"
        },
        "id": "j6Z01zxCMqh8",
        "outputId": "21b79f08-9000-4e8e-9d79-a6f7d0a710be"
      },
      "execution_count": 82,
      "outputs": [
        {
          "output_type": "stream",
          "name": "stdout",
          "text": [
            "With 71 columns: 0.992176471462652\n",
            "With 72 columns: 0.9921857928152665\n",
            "With 73 columns: 0.9924082614213805\n",
            "With 73 columns: 0.9924082614213805\n",
            "With 73 columns: 0.9924082614213805\n",
            "With 73 columns: 0.9924082614213805\n",
            "With 73 columns: 0.9924082614213805\n",
            "With 73 columns: 0.9924082614213805\n",
            "With 73 columns: 0.9924082614213805\n",
            "With 73 columns: 0.9924082614213805\n",
            "With 73 columns: 0.9924082614213805\n",
            "With 73 columns: 0.9924082614213805\n",
            "With 73 columns: 0.9924082614213805\n",
            "With 73 columns: 0.9924082614213805\n",
            "With 73 columns: 0.9924082614213805\n",
            "With 73 columns: 0.9924082614213805\n",
            "With 73 columns: 0.9924082614213805\n",
            "With 73 columns: 0.9924082614213805\n",
            "With 73 columns: 0.9924082614213805\n",
            "With 73 columns: 0.9924082614213805\n",
            "With 73 columns: 0.9924082614213805\n",
            "With 73 columns: 0.9924082614213805\n",
            "With 73 columns: 0.9924082614213805\n",
            "With 73 columns: 0.9924082614213805\n",
            "With 73 columns: 0.9924082614213805\n",
            "With 73 columns: 0.9924082614213805\n",
            "With 73 columns: 0.9924082614213805\n"
          ]
        }
      ]
    },
    {
      "cell_type": "markdown",
      "source": [
        "# With 73 columns out of 98, we are able to achieve a score of 99.24%"
      ],
      "metadata": {
        "id": "Y79NkvqnNCIr"
      }
    }
  ],
  "metadata": {
    "kernelspec": {
      "display_name": "Python 3",
      "language": "python",
      "name": "python3"
    },
    "language_info": {
      "codemirror_mode": {
        "name": "ipython",
        "version": 3
      },
      "file_extension": ".py",
      "mimetype": "text/x-python",
      "name": "python",
      "nbconvert_exporter": "python",
      "pygments_lexer": "ipython3",
      "version": "3.8.3"
    },
    "colab": {
      "name": "Assignment-6(V)-Shahidh.ipynb",
      "provenance": [],
      "collapsed_sections": []
    }
  },
  "nbformat": 4,
  "nbformat_minor": 0
}